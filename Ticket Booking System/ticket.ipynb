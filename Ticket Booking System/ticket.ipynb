{
 "cells": [
  {
   "cell_type": "code",
   "execution_count": null,
   "metadata": {},
   "outputs": [
    {
     "name": "stdout",
     "output_type": "stream",
     "text": [
      "Invalid day\n",
      "\n",
      "Congratulations! Your plane ticket has been successfully booked. Safe travels!\n",
      "\n"
     ]
    }
   ],
   "source": [
    "days = {\n",
    "    \"1\" : \"Monday\",\n",
    "    \"2\" : \"Tuesday\",\n",
    "    \"3\" : \"Wednesday\",\n",
    "    \"4\" : \"Thursday\",\n",
    "    \"5\" : \"Friday\",\n",
    "}\n",
    "\n",
    "ticket_amount = {\n",
    "    \"Monday\" : 1000,\n",
    "    \"Tuesday\" : 2000,\n",
    "    \"Wednesday\" : 3000,\n",
    "    \"Thursday\" : 4000,\n",
    "    \"Friday\" : 5000,\n",
    "}\n",
    "\n",
    "amount = 0\n",
    "\n",
    "select_days = input(\"Enter day : \")\n",
    "\n",
    "if select_days in ticket_amount:\n",
    "    ticket_amount += amount\n",
    "    print(\"You have selected\", select_days)\n",
    "\n",
    "else: \n",
    "    print(\"Invalid day\")\n",
    "\n",
    "print(f\"\"\"\n",
    "Congratulations! Your plane ticket has been successfully booked. Safe travels!\n",
    "\"\"\")    "
   ]
  }
 ],
 "metadata": {
  "kernelspec": {
   "display_name": "python12",
   "language": "python",
   "name": "python3"
  },
  "language_info": {
   "codemirror_mode": {
    "name": "ipython",
    "version": 3
   },
   "file_extension": ".py",
   "mimetype": "text/x-python",
   "name": "python",
   "nbconvert_exporter": "python",
   "pygments_lexer": "ipython3",
   "version": "3.12.0"
  }
 },
 "nbformat": 4,
 "nbformat_minor": 2
}
